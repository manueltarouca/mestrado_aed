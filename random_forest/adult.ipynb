{
 "cells": [
  {
   "cell_type": "code",
   "execution_count": 13,
   "metadata": {
    "collapsed": true,
    "pycharm": {
     "is_executing": false
    }
   },
   "outputs": [],
   "source": [
    "import pandas as pd\n",
    "db = pd.read_csv('adult.csv', names=[\"age\",\"workclass\",\"fnlwgt\",\"education\",\"education-num\",\"marital-status\",\"occupation\",\"relationship\",\"race\",\"sex\",\"capital-gain\",\"capital-loss\",\"hours-per-week\",\"native-country\",\"target\"]).dropna()\n",
    "descriptive = db.iloc[:,0:14].values\n",
    "target = db.iloc[:,14].values"
   ]
  },
  {
   "cell_type": "code",
   "execution_count": 14,
   "outputs": [],
   "source": [
    "#Data visualization\n",
    "#db.describe()\n",
    "#db.head()\n",
    "#print(\"Descriptive:\")\n",
    "#print(descriptive)\n",
    "#print(\"Target\")\n",
    "#print(target)"
   ],
   "metadata": {
    "collapsed": false,
    "pycharm": {
     "name": "#%%\n",
     "is_executing": false
    }
   }
  },
  {
   "cell_type": "code",
   "execution_count": 15,
   "outputs": [],
   "source": [
    "#Label encoder\n",
    "from sklearn.preprocessing import LabelEncoder\n",
    "le = LabelEncoder()\n",
    "descriptive[:,0] = le.fit_transform(descriptive[:,0])\n",
    "descriptive[:,1] = le.fit_transform(descriptive[:,1])\n",
    "descriptive[:,2] = le.fit_transform(descriptive[:,2])\n",
    "descriptive[:,3] = le.fit_transform(descriptive[:,3])\n",
    "descriptive[:,4] = le.fit_transform(descriptive[:,4])\n",
    "descriptive[:,5] = le.fit_transform(descriptive[:,5])\n",
    "descriptive[:,6] = le.fit_transform(descriptive[:,6])\n",
    "descriptive[:,7] = le.fit_transform(descriptive[:,7])\n",
    "descriptive[:,8] = le.fit_transform(descriptive[:,8])\n",
    "descriptive[:,9] = le.fit_transform(descriptive[:,9])\n",
    "descriptive[:,10] = le.fit_transform(descriptive[:,10])\n",
    "descriptive[:,11] = le.fit_transform(descriptive[:,11])\n",
    "descriptive[:,12] = le.fit_transform(descriptive[:,12])\n",
    "descriptive[:,13] = le.fit_transform(descriptive[:,13])"
   ],
   "metadata": {
    "collapsed": false,
    "pycharm": {
     "name": "#%%\n",
     "is_executing": false
    }
   }
  },
  {
   "cell_type": "code",
   "execution_count": 16,
   "outputs": [],
   "source": [
    "#Split Dataset\n",
    "percentagem = 0.3\n",
    "from sklearn.model_selection import train_test_split\n",
    "#change this line for 0.15, 0.30, 0.50\n",
    "descriptiveTraining, descriptiveTest, targetTraining, targetTest = train_test_split(descriptive,target,test_size = percentagem, random_state = 2)\n",
    "\n",
    "#print(descriptiveTraining)\n",
    "#print(descriptiveTest)"
   ],
   "metadata": {
    "collapsed": false,
    "pycharm": {
     "name": "#%%\n",
     "is_executing": false
    }
   }
  },
  {
   "cell_type": "code",
   "execution_count": 17,
   "outputs": [],
   "source": [
    "#Random Forest Algorithm & Test\n",
    "from sklearn.ensemble import RandomForestClassifier\n",
    "classifier = RandomForestClassifier(n_estimators=50, criterion='entropy', random_state=0)\n",
    "classifier.fit(descriptiveTraining, targetTraining)\n",
    "prediction = classifier.predict(descriptiveTest)"
   ],
   "metadata": {
    "collapsed": false,
    "pycharm": {
     "name": "#%%\n",
     "is_executing": false
    }
   }
  },
  {
   "cell_type": "code",
   "execution_count": 18,
   "outputs": [
    {
     "name": "stdout",
     "text": [
      "Accuracy:\n",
      "0.8490121813901116\n",
      "Confusion matrix:\n",
      "[[6814  546]\n",
      " [ 929 1480]]\n"
     ],
     "output_type": "stream"
    }
   ],
   "source": [
    "#Metrics\n",
    "from sklearn.metrics import confusion_matrix, accuracy_score\n",
    "accuracy = accuracy_score(targetTest,prediction)\n",
    "matrix = confusion_matrix(targetTest,prediction)\n",
    "print(\"Accuracy:\")\n",
    "print(accuracy )\n",
    "print(\"Confusion matrix:\")\n",
    "print(matrix)"
   ],
   "metadata": {
    "collapsed": false,
    "pycharm": {
     "name": "#%%\n",
     "is_executing": false
    }
   }
  }
 ],
 "metadata": {
  "kernelspec": {
   "display_name": "Python 3",
   "language": "python",
   "name": "python3"
  },
  "language_info": {
   "codemirror_mode": {
    "name": "ipython",
    "version": 2
   },
   "file_extension": ".py",
   "mimetype": "text/x-python",
   "name": "python",
   "nbconvert_exporter": "python",
   "pygments_lexer": "ipython2",
   "version": "2.7.6"
  },
  "pycharm": {
   "stem_cell": {
    "cell_type": "raw",
    "source": [],
    "metadata": {
     "collapsed": false
    }
   }
  }
 },
 "nbformat": 4,
 "nbformat_minor": 0
}