{
 "cells": [
  {
   "cell_type": "code",
   "execution_count": 9,
   "metadata": {
    "pycharm": {
     "is_executing": false
    }
   },
   "outputs": [],
   "source": [
    "import pandas as pd\n",
    "db = pd.read_csv('adult.csv', names=[\"age\",\"workclass\",\"fnlwgt\",\"education\",\"education-num\",\"marital-status\",\"occupation\",\"relationship\",\"race\",\"sex\",\"capital-gain\",\"capital-loss\",\"hours-per-week\",\"native-country\",\"target\"]).dropna()\n",
    "descriptive = db.iloc[:,0:14].values\n",
    "target = db.iloc[:,14].values"
   ]
  },
  {
   "cell_type": "code",
   "execution_count": 10,
   "metadata": {
    "collapsed": false,
    "jupyter": {
     "outputs_hidden": false
    },
    "pycharm": {
     "is_executing": false,
     "name": "#%%\n"
    }
   },
   "outputs": [],
   "source": [
    "#Data visualization\n",
    "#db.describe()\n",
    "#db.head()\n",
    "#print(\"Descriptive:\")\n",
    "#print(descriptive)\n",
    "#print(\"Target\")\n",
    "#print(target)"
   ]
  },
  {
   "cell_type": "code",
   "execution_count": 11,
   "metadata": {
    "collapsed": false,
    "jupyter": {
     "outputs_hidden": false
    },
    "pycharm": {
     "is_executing": false,
     "name": "#%%\n"
    }
   },
   "outputs": [],
   "source": [
    "#Label encoder\n",
    "from sklearn.preprocessing import LabelEncoder\n",
    "le = LabelEncoder()\n",
    "descriptive[:,0] = le.fit_transform(descriptive[:,0])\n",
    "descriptive[:,1] = le.fit_transform(descriptive[:,1])\n",
    "descriptive[:,2] = le.fit_transform(descriptive[:,2])\n",
    "descriptive[:,3] = le.fit_transform(descriptive[:,3])\n",
    "descriptive[:,4] = le.fit_transform(descriptive[:,4])\n",
    "descriptive[:,5] = le.fit_transform(descriptive[:,5])\n",
    "descriptive[:,6] = le.fit_transform(descriptive[:,6])\n",
    "descriptive[:,7] = le.fit_transform(descriptive[:,7])\n",
    "descriptive[:,8] = le.fit_transform(descriptive[:,8])\n",
    "descriptive[:,9] = le.fit_transform(descriptive[:,9])\n",
    "descriptive[:,10] = le.fit_transform(descriptive[:,10])\n",
    "descriptive[:,11] = le.fit_transform(descriptive[:,11])\n",
    "descriptive[:,12] = le.fit_transform(descriptive[:,12])\n",
    "descriptive[:,13] = le.fit_transform(descriptive[:,13])"
   ]
  },
  {
   "cell_type": "code",
   "execution_count": 12,
   "metadata": {
    "collapsed": false,
    "jupyter": {
     "outputs_hidden": false
    },
    "pycharm": {
     "is_executing": false,
     "name": "#%%\n"
    }
   },
   "outputs": [
    {
     "name": "stderr",
     "text": [
      "C:\\Users\\manue\\Anaconda3\\lib\\site-packages\\sklearn\\preprocessing\\_encoders.py:415: FutureWarning: The handling of integer data will change in version 0.22. Currently, the categories are determined based on the range [0, max(values)], while in the future they will be determined based on the unique values.\n",
      "If you want the future behaviour and silence this warning, you can specify \"categories='auto'\".\n",
      "In case you used a LabelEncoder before this OneHotEncoder to convert the categories to integers, then you can now use the OneHotEncoder directly.\n",
      "  warnings.warn(msg, FutureWarning)\n",
      "C:\\Users\\manue\\Anaconda3\\lib\\site-packages\\sklearn\\preprocessing\\_encoders.py:451: DeprecationWarning: The 'categorical_features' keyword is deprecated in version 0.20 and will be removed in 0.22. You can use the ColumnTransformer instead.\n",
      "  \"use the ColumnTransformer instead.\", DeprecationWarning)\n"
     ],
     "output_type": "stream"
    }
   ],
   "source": [
    "#One Hot Encoder\n",
    "from sklearn.preprocessing import OneHotEncoder\n",
    "ohe = OneHotEncoder(categorical_features=[1,3,5,6,7,8,9,13])\n",
    "descriptive = ohe.fit_transform(descriptive).toarray()"
   ]
  },
  {
   "cell_type": "code",
   "execution_count": 13,
   "outputs": [],
   "source": [
    "#Standard Scaler\n",
    "from sklearn.preprocessing import StandardScaler\n",
    "ss = StandardScaler()\n",
    "descriptive = ss.fit_transform(descriptive)"
   ],
   "metadata": {
    "collapsed": false,
    "pycharm": {
     "name": "#%%\n",
     "is_executing": false
    }
   }
  },
  {
   "cell_type": "code",
   "execution_count": 14,
   "metadata": {
    "collapsed": false,
    "jupyter": {
     "outputs_hidden": false
    },
    "pycharm": {
     "is_executing": false,
     "name": "#%%\n"
    }
   },
   "outputs": [],
   "source": [
    "#Split Dataset\n",
    "percentagem = 0.5\n",
    "from sklearn.model_selection import train_test_split\n",
    "#change this line for 0.15, 0.30, 0.50\n",
    "descriptiveTraining, descriptiveTest, targetTraining, targetTest = train_test_split(descriptive,target,test_size = percentagem, random_state = 0)\n",
    "\n",
    "#print(descriptiveTraining)\n",
    "#print(descriptiveTest)"
   ]
  },
  {
   "cell_type": "code",
   "execution_count": 15,
   "metadata": {
    "collapsed": false,
    "jupyter": {
     "outputs_hidden": false
    },
    "pycharm": {
     "is_executing": false,
     "name": "#%%\n"
    }
   },
   "outputs": [],
   "source": [
    "#Naive Bayes Algorithm & Test\n",
    "from sklearn.ensemble import RandomForestClassifier\n",
    "classifier = RandomForestClassifier(n_estimators=50, criterion='entropy', random_state=0)\n",
    "classifier.fit(descriptiveTraining, targetTraining)\n",
    "prediction = classifier.predict(descriptiveTest)"
   ]
  },
  {
   "cell_type": "code",
   "execution_count": 16,
   "metadata": {
    "collapsed": false,
    "jupyter": {
     "outputs_hidden": false
    },
    "pycharm": {
     "is_executing": false,
     "name": "#%%\n"
    }
   },
   "outputs": [
    {
     "name": "stdout",
     "text": [
      "Accuracy:\n",
      "0.8543087033965973\n",
      "Confusion matrix:\n",
      "[[11496   827]\n",
      " [ 1545  2413]]\n"
     ],
     "output_type": "stream"
    }
   ],
   "source": [
    "#Metrics\n",
    "from sklearn.metrics import confusion_matrix, accuracy_score\n",
    "accuracy = accuracy_score(targetTest,prediction)\n",
    "matrix = confusion_matrix(targetTest,prediction)\n",
    "print(\"Accuracy:\")\n",
    "print(accuracy )\n",
    "print(\"Confusion matrix:\")\n",
    "print(matrix)"
   ]
  }
 ],
 "metadata": {
  "kernelspec": {
   "display_name": "Python 3",
   "language": "python",
   "name": "python3"
  },
  "language_info": {
   "codemirror_mode": {
    "name": "ipython",
    "version": 3
   },
   "file_extension": ".py",
   "mimetype": "text/x-python",
   "name": "python",
   "nbconvert_exporter": "python",
   "pygments_lexer": "ipython3",
   "version": "3.7.3"
  },
  "pycharm": {
   "stem_cell": {
    "cell_type": "raw",
    "source": [],
    "metadata": {
     "collapsed": false
    }
   }
  }
 },
 "nbformat": 4,
 "nbformat_minor": 4
}