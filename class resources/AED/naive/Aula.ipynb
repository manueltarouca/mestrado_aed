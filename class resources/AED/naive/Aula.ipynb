{
 "cells": [
  {
   "cell_type": "code",
   "execution_count": 58,
   "metadata": {},
   "outputs": [
    {
     "name": "stdout",
     "output_type": "stream",
     "text": [
      "     Outlook Temperature Humidity  Windy Play\n",
      "0      Sunny         hot     high  False   no\n",
      "1      Sunny         hot     high   True   no\n",
      "2   Overcast         hot     high  False  yes\n",
      "3      Rainy        mild     high  False  yes\n",
      "4      Rainy        cool   normal  False  yes\n",
      "5      Rainy        cool   normal   True   no\n",
      "6   Overcast        cool   normal   True  yes\n",
      "7      Sunny        mild     high  False   no\n",
      "8      Sunny        cool   normal  False  yes\n",
      "9      Rainy        mild   normal  False  yes\n",
      "10     Sunny        mild   normal   True  yes\n",
      "11  Overcast        mild     high   True  yes\n",
      "12  Overcast         hot   normal  False  yes\n",
      "13     Rainy        mild     high   True   no\n"
     ]
    },
    {
     "data": {
      "text/html": [
       "<div>\n",
       "<style scoped>\n",
       "    .dataframe tbody tr th:only-of-type {\n",
       "        vertical-align: middle;\n",
       "    }\n",
       "\n",
       "    .dataframe tbody tr th {\n",
       "        vertical-align: top;\n",
       "    }\n",
       "\n",
       "    .dataframe thead th {\n",
       "        text-align: right;\n",
       "    }\n",
       "</style>\n",
       "<table border=\"1\" class=\"dataframe\">\n",
       "  <thead>\n",
       "    <tr style=\"text-align: right;\">\n",
       "      <th></th>\n",
       "      <th>Outlook</th>\n",
       "      <th>Temperature</th>\n",
       "      <th>Humidity</th>\n",
       "      <th>Windy</th>\n",
       "      <th>Play</th>\n",
       "    </tr>\n",
       "  </thead>\n",
       "  <tbody>\n",
       "    <tr>\n",
       "      <th>count</th>\n",
       "      <td>14</td>\n",
       "      <td>14</td>\n",
       "      <td>14</td>\n",
       "      <td>14</td>\n",
       "      <td>14</td>\n",
       "    </tr>\n",
       "    <tr>\n",
       "      <th>unique</th>\n",
       "      <td>3</td>\n",
       "      <td>3</td>\n",
       "      <td>2</td>\n",
       "      <td>2</td>\n",
       "      <td>2</td>\n",
       "    </tr>\n",
       "    <tr>\n",
       "      <th>top</th>\n",
       "      <td>Rainy</td>\n",
       "      <td>mild</td>\n",
       "      <td>high</td>\n",
       "      <td>False</td>\n",
       "      <td>yes</td>\n",
       "    </tr>\n",
       "    <tr>\n",
       "      <th>freq</th>\n",
       "      <td>5</td>\n",
       "      <td>6</td>\n",
       "      <td>7</td>\n",
       "      <td>8</td>\n",
       "      <td>9</td>\n",
       "    </tr>\n",
       "  </tbody>\n",
       "</table>\n",
       "</div>"
      ],
      "text/plain": [
       "       Outlook Temperature Humidity  Windy Play\n",
       "count       14          14       14     14   14\n",
       "unique       3           3        2      2    2\n",
       "top      Rainy        mild     high  False  yes\n",
       "freq         5           6        7      8    9"
      ]
     },
     "execution_count": 58,
     "metadata": {},
     "output_type": "execute_result"
    }
   ],
   "source": [
    "import pandas as pd\n",
    "db = pd.read_excel('playnoplay.xls')\n",
    "print(db)\n",
    "db.describe()"
   ]
  },
  {
   "cell_type": "code",
   "execution_count": 59,
   "metadata": {},
   "outputs": [
    {
     "name": "stdout",
     "output_type": "stream",
     "text": [
      "[['Sunny' 'hot' 'high' False]\n",
      " ['Sunny' 'hot' 'high' True]\n",
      " ['Overcast' 'hot' 'high' False]\n",
      " ['Rainy' 'mild' 'high' False]\n",
      " ['Rainy' 'cool' 'normal' False]\n",
      " ['Rainy' 'cool' 'normal' True]\n",
      " ['Overcast' 'cool' 'normal' True]\n",
      " ['Sunny' 'mild' 'high' False]\n",
      " ['Sunny' 'cool' 'normal' False]\n",
      " ['Rainy' 'mild' 'normal' False]\n",
      " ['Sunny' 'mild' 'normal' True]\n",
      " ['Overcast' 'mild' 'high' True]\n",
      " ['Overcast' 'hot' 'normal' False]\n",
      " ['Rainy' 'mild' 'high' True]]\n",
      "['no' 'no' 'yes' 'yes' 'yes' 'no' 'yes' 'no' 'yes' 'yes' 'yes' 'yes' 'yes'\n",
      " 'no']\n"
     ]
    }
   ],
   "source": [
    "descriptive = db.iloc[:,0:4].values\n",
    "target = db.iloc[:,4].values\n",
    "print(descriptive)\n",
    "print(target)"
   ]
  },
  {
   "cell_type": "code",
   "execution_count": 60,
   "metadata": {},
   "outputs": [
    {
     "name": "stdout",
     "output_type": "stream",
     "text": [
      "[[2 1 0 0]\n",
      " [2 1 0 1]\n",
      " [0 1 0 0]\n",
      " [1 2 0 0]\n",
      " [1 0 1 0]\n",
      " [1 0 1 1]\n",
      " [0 0 1 1]\n",
      " [2 2 0 0]\n",
      " [2 0 1 0]\n",
      " [1 2 1 0]\n",
      " [2 2 1 1]\n",
      " [0 2 0 1]\n",
      " [0 1 1 0]\n",
      " [1 2 0 1]]\n"
     ]
    }
   ],
   "source": [
    "from sklearn.preprocessing import LabelEncoder\n",
    "le = LabelEncoder()\n",
    "descriptive[:,0] = le.fit_transform(descriptive[:,0])\n",
    "descriptive[:,1] = le.fit_transform(descriptive[:,1])\n",
    "descriptive[:,2] = le.fit_transform(descriptive[:,2])\n",
    "descriptive[:,3] = le.fit_transform(descriptive[:,3])\n",
    "print(descriptive)"
   ]
  },
  {
   "cell_type": "code",
   "execution_count": 61,
   "metadata": {},
   "outputs": [
    {
     "name": "stdout",
     "output_type": "stream",
     "text": [
      "[[0. 0. 1. 0. 1. 0. 1. 0. 1. 0.]\n",
      " [0. 0. 1. 0. 1. 0. 1. 0. 0. 1.]\n",
      " [1. 0. 0. 0. 1. 0. 1. 0. 1. 0.]\n",
      " [0. 1. 0. 0. 0. 1. 1. 0. 1. 0.]\n",
      " [0. 1. 0. 1. 0. 0. 0. 1. 1. 0.]\n",
      " [0. 1. 0. 1. 0. 0. 0. 1. 0. 1.]\n",
      " [1. 0. 0. 1. 0. 0. 0. 1. 0. 1.]\n",
      " [0. 0. 1. 0. 0. 1. 1. 0. 1. 0.]\n",
      " [0. 0. 1. 1. 0. 0. 0. 1. 1. 0.]\n",
      " [0. 1. 0. 0. 0. 1. 0. 1. 1. 0.]\n",
      " [0. 0. 1. 0. 0. 1. 0. 1. 0. 1.]\n",
      " [1. 0. 0. 0. 0. 1. 1. 0. 0. 1.]\n",
      " [1. 0. 0. 0. 1. 0. 0. 1. 1. 0.]\n",
      " [0. 1. 0. 0. 0. 1. 1. 0. 0. 1.]]\n"
     ]
    },
    {
     "name": "stderr",
     "output_type": "stream",
     "text": [
      "C:\\Users\\manue\\Anaconda3\\lib\\site-packages\\sklearn\\preprocessing\\_encoders.py:415: FutureWarning: The handling of integer data will change in version 0.22. Currently, the categories are determined based on the range [0, max(values)], while in the future they will be determined based on the unique values.\n",
      "If you want the future behaviour and silence this warning, you can specify \"categories='auto'\".\n",
      "In case you used a LabelEncoder before this OneHotEncoder to convert the categories to integers, then you can now use the OneHotEncoder directly.\n",
      "  warnings.warn(msg, FutureWarning)\n"
     ]
    }
   ],
   "source": [
    "from sklearn.preprocessing import OneHotEncoder\n",
    "ohe = OneHotEncoder(categorical_features=[0,1,2,3])\n",
    "descriptive = ohe.fit_transform(descriptive).toarray()\n",
    "print(descriptive)"
   ]
  },
  {
   "cell_type": "code",
   "execution_count": 62,
   "metadata": {},
   "outputs": [
    {
     "name": "stdout",
     "output_type": "stream",
     "text": [
      "[[-0.63245553 -0.74535599  1.34164079 -0.63245553  1.58113883 -0.8660254\n",
      "   1.         -1.          0.8660254  -0.8660254 ]\n",
      " [-0.63245553 -0.74535599  1.34164079 -0.63245553  1.58113883 -0.8660254\n",
      "   1.         -1.         -1.15470054  1.15470054]\n",
      " [ 1.58113883 -0.74535599 -0.74535599 -0.63245553  1.58113883 -0.8660254\n",
      "   1.         -1.          0.8660254  -0.8660254 ]\n",
      " [-0.63245553  1.34164079 -0.74535599 -0.63245553 -0.63245553  1.15470054\n",
      "   1.         -1.          0.8660254  -0.8660254 ]\n",
      " [-0.63245553  1.34164079 -0.74535599  1.58113883 -0.63245553 -0.8660254\n",
      "  -1.          1.          0.8660254  -0.8660254 ]\n",
      " [-0.63245553  1.34164079 -0.74535599  1.58113883 -0.63245553 -0.8660254\n",
      "  -1.          1.         -1.15470054  1.15470054]\n",
      " [ 1.58113883 -0.74535599 -0.74535599  1.58113883 -0.63245553 -0.8660254\n",
      "  -1.          1.         -1.15470054  1.15470054]\n",
      " [-0.63245553 -0.74535599  1.34164079 -0.63245553 -0.63245553  1.15470054\n",
      "   1.         -1.          0.8660254  -0.8660254 ]\n",
      " [-0.63245553 -0.74535599  1.34164079  1.58113883 -0.63245553 -0.8660254\n",
      "  -1.          1.          0.8660254  -0.8660254 ]\n",
      " [-0.63245553  1.34164079 -0.74535599 -0.63245553 -0.63245553  1.15470054\n",
      "  -1.          1.          0.8660254  -0.8660254 ]\n",
      " [-0.63245553 -0.74535599  1.34164079 -0.63245553 -0.63245553  1.15470054\n",
      "  -1.          1.         -1.15470054  1.15470054]\n",
      " [ 1.58113883 -0.74535599 -0.74535599 -0.63245553 -0.63245553  1.15470054\n",
      "   1.         -1.         -1.15470054  1.15470054]\n",
      " [ 1.58113883 -0.74535599 -0.74535599 -0.63245553  1.58113883 -0.8660254\n",
      "  -1.          1.          0.8660254  -0.8660254 ]\n",
      " [-0.63245553  1.34164079 -0.74535599 -0.63245553 -0.63245553  1.15470054\n",
      "   1.         -1.         -1.15470054  1.15470054]]\n"
     ]
    }
   ],
   "source": [
    "from sklearn.preprocessing import StandardScaler\n",
    "ss = StandardScaler()\n",
    "descriptive = ss.fit_transform(descriptive)\n",
    "print(descriptive)"
   ]
  },
  {
   "cell_type": "code",
   "execution_count": 63,
   "metadata": {},
   "outputs": [
    {
     "name": "stdout",
     "output_type": "stream",
     "text": [
      "[[-0.63245553 -0.74535599  1.34164079 -0.63245553  1.58113883 -0.8660254\n",
      "   1.         -1.         -1.15470054  1.15470054]\n",
      " [-0.63245553 -0.74535599  1.34164079 -0.63245553 -0.63245553  1.15470054\n",
      "   1.         -1.          0.8660254  -0.8660254 ]\n",
      " [-0.63245553 -0.74535599  1.34164079 -0.63245553 -0.63245553  1.15470054\n",
      "  -1.          1.         -1.15470054  1.15470054]\n",
      " [-0.63245553  1.34164079 -0.74535599 -0.63245553 -0.63245553  1.15470054\n",
      "   1.         -1.          0.8660254  -0.8660254 ]\n",
      " [-0.63245553 -0.74535599  1.34164079 -0.63245553  1.58113883 -0.8660254\n",
      "   1.         -1.          0.8660254  -0.8660254 ]\n",
      " [-0.63245553  1.34164079 -0.74535599  1.58113883 -0.63245553 -0.8660254\n",
      "  -1.          1.         -1.15470054  1.15470054]\n",
      " [ 1.58113883 -0.74535599 -0.74535599 -0.63245553  1.58113883 -0.8660254\n",
      "  -1.          1.          0.8660254  -0.8660254 ]]\n",
      "[[-0.63245553 -0.74535599  1.34164079  1.58113883 -0.63245553 -0.8660254\n",
      "  -1.          1.          0.8660254  -0.8660254 ]\n",
      " [ 1.58113883 -0.74535599 -0.74535599  1.58113883 -0.63245553 -0.8660254\n",
      "  -1.          1.         -1.15470054  1.15470054]\n",
      " [-0.63245553  1.34164079 -0.74535599  1.58113883 -0.63245553 -0.8660254\n",
      "  -1.          1.          0.8660254  -0.8660254 ]\n",
      " [ 1.58113883 -0.74535599 -0.74535599 -0.63245553 -0.63245553  1.15470054\n",
      "   1.         -1.         -1.15470054  1.15470054]\n",
      " [ 1.58113883 -0.74535599 -0.74535599 -0.63245553  1.58113883 -0.8660254\n",
      "   1.         -1.          0.8660254  -0.8660254 ]\n",
      " [-0.63245553  1.34164079 -0.74535599 -0.63245553 -0.63245553  1.15470054\n",
      "   1.         -1.         -1.15470054  1.15470054]\n",
      " [-0.63245553  1.34164079 -0.74535599 -0.63245553 -0.63245553  1.15470054\n",
      "  -1.          1.          0.8660254  -0.8660254 ]]\n"
     ]
    }
   ],
   "source": [
    "from sklearn.model_selection import train_test_split\n",
    "descriptiveTraining, descriptiveTest, targetTraining, targetTest = train_test_split(descriptive,target,test_size = 0.5, random_state = 0)\n",
    "print(descriptiveTraining)\n",
    "print(descriptiveTest)"
   ]
  },
  {
   "cell_type": "code",
   "execution_count": 64,
   "metadata": {},
   "outputs": [
    {
     "name": "stdout",
     "output_type": "stream",
     "text": [
      "GaussianNB(priors=None, var_smoothing=1e-09)\n"
     ]
    }
   ],
   "source": [
    "from sklearn.naive_bayes import GaussianNB\n",
    "classifier = GaussianNB()\n",
    "print(classifier)"
   ]
  },
  {
   "cell_type": "code",
   "execution_count": 66,
   "metadata": {},
   "outputs": [],
   "source": [
    "classifier.fit(descriptiveTraining, targetTraining)\n",
    "prediction = classifier.predict(descriptiveTest)"
   ]
  },
  {
   "cell_type": "code",
   "execution_count": 67,
   "metadata": {},
   "outputs": [
    {
     "name": "stdout",
     "output_type": "stream",
     "text": [
      "['yes' 'yes' 'yes' 'yes' 'yes' 'no' 'yes']\n"
     ]
    }
   ],
   "source": [
    "print(targetTest)"
   ]
  },
  {
   "cell_type": "code",
   "execution_count": 68,
   "metadata": {},
   "outputs": [],
   "source": [
    "from sklearn.metrics import confusion_matrix, accuracy_score\n",
    "accuracy = accuracy_score(targetTest,prediction)\n",
    "matrix = confusion_matrix(targetTest,prediction)"
   ]
  },
  {
   "cell_type": "code",
   "execution_count": 70,
   "metadata": {},
   "outputs": [
    {
     "name": "stdout",
     "output_type": "stream",
     "text": [
      "0.7142857142857143\n",
      "[[1 0]\n",
      " [2 4]]\n"
     ]
    }
   ],
   "source": [
    "print(accuracy )\n",
    "print(matrix)"
   ]
  },
  {
   "cell_type": "code",
   "execution_count": null,
   "metadata": {},
   "outputs": [],
   "source": []
  }
 ],
 "metadata": {
  "kernelspec": {
   "display_name": "Python 3",
   "language": "python",
   "name": "python3"
  },
  "language_info": {
   "codemirror_mode": {
    "name": "ipython",
    "version": 3
   },
   "file_extension": ".py",
   "mimetype": "text/x-python",
   "name": "python",
   "nbconvert_exporter": "python",
   "pygments_lexer": "ipython3",
   "version": "3.7.3"
  }
 },
 "nbformat": 4,
 "nbformat_minor": 4
}
