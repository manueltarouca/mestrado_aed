{
 "cells": [
  {
   "cell_type": "code",
   "execution_count": 39,
   "metadata": {},
   "outputs": [
    {
     "data": {
      "text/html": [
       "<div>\n",
       "<style scoped>\n",
       "    .dataframe tbody tr th:only-of-type {\n",
       "        vertical-align: middle;\n",
       "    }\n",
       "\n",
       "    .dataframe tbody tr th {\n",
       "        vertical-align: top;\n",
       "    }\n",
       "\n",
       "    .dataframe thead th {\n",
       "        text-align: right;\n",
       "    }\n",
       "</style>\n",
       "<table border=\"1\" class=\"dataframe\">\n",
       "  <thead>\n",
       "    <tr style=\"text-align: right;\">\n",
       "      <th></th>\n",
       "      <th>PARENTS</th>\n",
       "      <th>HAS_NURS</th>\n",
       "      <th>FORM</th>\n",
       "      <th>CHILDREN</th>\n",
       "      <th>HOUSING</th>\n",
       "      <th>FINANCE</th>\n",
       "      <th>SOCIAL</th>\n",
       "      <th>HEALTH</th>\n",
       "      <th>COLUNA A MAIS</th>\n",
       "    </tr>\n",
       "  </thead>\n",
       "  <tbody>\n",
       "    <tr>\n",
       "      <th>count</th>\n",
       "      <td>12960</td>\n",
       "      <td>12960</td>\n",
       "      <td>12960</td>\n",
       "      <td>12960</td>\n",
       "      <td>12960</td>\n",
       "      <td>12960</td>\n",
       "      <td>12960</td>\n",
       "      <td>12960</td>\n",
       "      <td>12960</td>\n",
       "    </tr>\n",
       "    <tr>\n",
       "      <th>unique</th>\n",
       "      <td>3</td>\n",
       "      <td>5</td>\n",
       "      <td>4</td>\n",
       "      <td>4</td>\n",
       "      <td>3</td>\n",
       "      <td>2</td>\n",
       "      <td>3</td>\n",
       "      <td>3</td>\n",
       "      <td>5</td>\n",
       "    </tr>\n",
       "    <tr>\n",
       "      <th>top</th>\n",
       "      <td>usual</td>\n",
       "      <td>very_crit</td>\n",
       "      <td>foster</td>\n",
       "      <td>2</td>\n",
       "      <td>convenient</td>\n",
       "      <td>convenient</td>\n",
       "      <td>slightly_prob</td>\n",
       "      <td>not_recom</td>\n",
       "      <td>not_recom</td>\n",
       "    </tr>\n",
       "    <tr>\n",
       "      <th>freq</th>\n",
       "      <td>4320</td>\n",
       "      <td>2592</td>\n",
       "      <td>3240</td>\n",
       "      <td>3240</td>\n",
       "      <td>4320</td>\n",
       "      <td>6480</td>\n",
       "      <td>4320</td>\n",
       "      <td>4320</td>\n",
       "      <td>4320</td>\n",
       "    </tr>\n",
       "  </tbody>\n",
       "</table>\n",
       "</div>"
      ],
      "text/plain": [
       "       PARENTS   HAS_NURS    FORM CHILDREN     HOUSING     FINANCE  \\\n",
       "count    12960      12960   12960    12960       12960       12960   \n",
       "unique       3          5       4        4           3           2   \n",
       "top      usual  very_crit  foster        2  convenient  convenient   \n",
       "freq      4320       2592    3240     3240        4320        6480   \n",
       "\n",
       "               SOCIAL     HEALTH COLUNA A MAIS  \n",
       "count           12960      12960         12960  \n",
       "unique              3          3             5  \n",
       "top     slightly_prob  not_recom     not_recom  \n",
       "freq             4320       4320          4320  "
      ]
     },
     "execution_count": 39,
     "metadata": {},
     "output_type": "execute_result"
    }
   ],
   "source": [
    "import pandas as pd\n",
    "db = pd.read_csv('nursery.csv',names=[\"PARENTS\", \"HAS_NURS\", \"FORM\", \"CHILDREN\",\"HOUSING\", \"FINANCE\", \"SOCIAL\", \"HEALTH\", \"COLUNA A MAIS\"])\n",
    "db.describe()"
   ]
  },
  {
   "cell_type": "code",
   "execution_count": 40,
   "metadata": {},
   "outputs": [
    {
     "name": "stdout",
     "output_type": "stream",
     "text": [
      "Descriptive [['usual' 'proper' 'complete' ... 'convenient' 'nonprob' 'recommended']\n",
      " ['usual' 'proper' 'complete' ... 'convenient' 'nonprob' 'priority']\n",
      " ['usual' 'proper' 'complete' ... 'convenient' 'nonprob' 'not_recom']\n",
      " ...\n",
      " ['great_pret' 'very_crit' 'foster' ... 'inconv' 'problematic'\n",
      "  'recommended']\n",
      " ['great_pret' 'very_crit' 'foster' ... 'inconv' 'problematic' 'priority']\n",
      " ['great_pret' 'very_crit' 'foster' ... 'inconv' 'problematic'\n",
      "  'not_recom']]\n",
      "Target ['recommend' 'priority' 'not_recom' ... 'spec_prior' 'spec_prior'\n",
      " 'not_recom']\n"
     ]
    }
   ],
   "source": [
    "descriptive = db.iloc[:,0:8].values\n",
    "target = db.iloc[:,8].values\n",
    "print('Descriptive ' + str(descriptive))\n",
    "print('Target ' + str(target))"
   ]
  },
  {
   "cell_type": "code",
   "execution_count": 41,
   "metadata": {},
   "outputs": [
    {
     "name": "stdout",
     "output_type": "stream",
     "text": [
      "[[2 3 0 ... 0 0 2]\n",
      " [2 3 0 ... 0 0 1]\n",
      " [2 3 0 ... 0 0 0]\n",
      " ...\n",
      " [0 4 2 ... 1 1 2]\n",
      " [0 4 2 ... 1 1 1]\n",
      " [0 4 2 ... 1 1 0]]\n"
     ]
    }
   ],
   "source": [
    "from sklearn.preprocessing import LabelEncoder\n",
    "labelEncoder = LabelEncoder()\n",
    "descriptive[:,0] = labelEncoder.fit_transform(descriptive[:,0])\n",
    "descriptive[:,1] = labelEncoder.fit_transform(descriptive[:,1])\n",
    "descriptive[:,2] = labelEncoder.fit_transform(descriptive[:,2])\n",
    "descriptive[:,3] = labelEncoder.fit_transform(descriptive[:,3])\n",
    "descriptive[:,4] = labelEncoder.fit_transform(descriptive[:,4])\n",
    "descriptive[:,5] = labelEncoder.fit_transform(descriptive[:,5])\n",
    "descriptive[:,6] = labelEncoder.fit_transform(descriptive[:,6])\n",
    "descriptive[:,7] = labelEncoder.fit_transform(descriptive[:,7])\n",
    "print(descriptive)"
   ]
  },
  {
   "cell_type": "code",
   "execution_count": 42,
   "metadata": {},
   "outputs": [
    {
     "name": "stdout",
     "output_type": "stream",
     "text": [
      "[[0. 0. 1. ... 0. 0. 1.]\n",
      " [0. 0. 1. ... 0. 1. 0.]\n",
      " [0. 0. 1. ... 1. 0. 0.]\n",
      " ...\n",
      " [1. 0. 0. ... 0. 0. 1.]\n",
      " [1. 0. 0. ... 0. 1. 0.]\n",
      " [1. 0. 0. ... 1. 0. 0.]]\n"
     ]
    },
    {
     "name": "stderr",
     "output_type": "stream",
     "text": [
      "C:\\Users\\manue\\Anaconda3\\lib\\site-packages\\sklearn\\preprocessing\\_encoders.py:415: FutureWarning: The handling of integer data will change in version 0.22. Currently, the categories are determined based on the range [0, max(values)], while in the future they will be determined based on the unique values.\n",
      "If you want the future behaviour and silence this warning, you can specify \"categories='auto'\".\n",
      "In case you used a LabelEncoder before this OneHotEncoder to convert the categories to integers, then you can now use the OneHotEncoder directly.\n",
      "  warnings.warn(msg, FutureWarning)\n",
      "C:\\Users\\manue\\Anaconda3\\lib\\site-packages\\sklearn\\preprocessing\\_encoders.py:451: DeprecationWarning: The 'categorical_features' keyword is deprecated in version 0.20 and will be removed in 0.22. You can use the ColumnTransformer instead.\n",
      "  \"use the ColumnTransformer instead.\", DeprecationWarning)\n"
     ]
    }
   ],
   "source": [
    "from sklearn.preprocessing import OneHotEncoder\n",
    "oneHotEncoder = OneHotEncoder(categorical_features=[0,1,2,3,4,5,6,7])\n",
    "descriptive = oneHotEncoder.fit_transform(descriptive).toarray()\n",
    "print(descriptive)"
   ]
  },
  {
   "cell_type": "code",
   "execution_count": 43,
   "metadata": {},
   "outputs": [
    {
     "name": "stdout",
     "output_type": "stream",
     "text": [
      "[[-0.70710678 -0.70710678  1.41421356 ... -0.70710678 -0.70710678\n",
      "   1.41421356]\n",
      " [-0.70710678 -0.70710678  1.41421356 ... -0.70710678  1.41421356\n",
      "  -0.70710678]\n",
      " [-0.70710678 -0.70710678  1.41421356 ...  1.41421356 -0.70710678\n",
      "  -0.70710678]\n",
      " ...\n",
      " [ 1.41421356 -0.70710678 -0.70710678 ... -0.70710678 -0.70710678\n",
      "   1.41421356]\n",
      " [ 1.41421356 -0.70710678 -0.70710678 ... -0.70710678  1.41421356\n",
      "  -0.70710678]\n",
      " [ 1.41421356 -0.70710678 -0.70710678 ...  1.41421356 -0.70710678\n",
      "  -0.70710678]]\n"
     ]
    }
   ],
   "source": [
    "from sklearn.preprocessing import StandardScaler\n",
    "standardScaler = StandardScaler()\n",
    "descriptive = standardScaler.fit_transform(descriptive)\n",
    "print(descriptive)"
   ]
  },
  {
   "cell_type": "code",
   "execution_count": 44,
   "metadata": {},
   "outputs": [],
   "source": [
    "from sklearn.model_selection import train_test_split\n",
    "descriptiveTraining , descriptiveTest, targetTraining, targetTest = train_test_split(descriptive, target,test_size = 0.5, random_state=0)"
   ]
  },
  {
   "cell_type": "code",
   "execution_count": 45,
   "metadata": {},
   "outputs": [
    {
     "name": "stdout",
     "output_type": "stream",
     "text": [
      "[[ 1.41421356 -0.70710678 -0.70710678 ... -0.70710678  1.41421356\n",
      "  -0.70710678]\n",
      " [-0.70710678  1.41421356 -0.70710678 ... -0.70710678  1.41421356\n",
      "  -0.70710678]\n",
      " [-0.70710678 -0.70710678  1.41421356 ... -0.70710678  1.41421356\n",
      "  -0.70710678]\n",
      " ...\n",
      " [ 1.41421356 -0.70710678 -0.70710678 ...  1.41421356 -0.70710678\n",
      "  -0.70710678]\n",
      " [ 1.41421356 -0.70710678 -0.70710678 ...  1.41421356 -0.70710678\n",
      "  -0.70710678]\n",
      " [-0.70710678 -0.70710678  1.41421356 ...  1.41421356 -0.70710678\n",
      "  -0.70710678]]\n",
      "[[-0.70710678  1.41421356 -0.70710678 ... -0.70710678 -0.70710678\n",
      "   1.41421356]\n",
      " [ 1.41421356 -0.70710678 -0.70710678 ... -0.70710678  1.41421356\n",
      "  -0.70710678]\n",
      " [-0.70710678  1.41421356 -0.70710678 ... -0.70710678 -0.70710678\n",
      "   1.41421356]\n",
      " ...\n",
      " [ 1.41421356 -0.70710678 -0.70710678 ... -0.70710678  1.41421356\n",
      "  -0.70710678]\n",
      " [-0.70710678 -0.70710678  1.41421356 ... -0.70710678  1.41421356\n",
      "  -0.70710678]\n",
      " [-0.70710678 -0.70710678  1.41421356 ...  1.41421356 -0.70710678\n",
      "  -0.70710678]]\n"
     ]
    }
   ],
   "source": [
    "print(descriptiveTraining)\n",
    "print(descriptiveTest)"
   ]
  },
  {
   "cell_type": "code",
   "execution_count": 46,
   "metadata": {},
   "outputs": [],
   "source": [
    "from sklearn.tree import DecisionTreeClassifier\n",
    "classifier = DecisionTreeClassifier(criterion='entropy',random_state=0)"
   ]
  },
  {
   "cell_type": "code",
   "execution_count": 48,
   "metadata": {},
   "outputs": [
    {
     "name": "stdout",
     "output_type": "stream",
     "text": [
      "DecisionTreeClassifier(class_weight=None, criterion='entropy', max_depth=None,\n",
      "                       max_features=None, max_leaf_nodes=None,\n",
      "                       min_impurity_decrease=0.0, min_impurity_split=None,\n",
      "                       min_samples_leaf=1, min_samples_split=2,\n",
      "                       min_weight_fraction_leaf=0.0, presort=False,\n",
      "                       random_state=0, splitter='best')\n"
     ]
    }
   ],
   "source": [
    "print(classifier)"
   ]
  },
  {
   "cell_type": "code",
   "execution_count": 49,
   "metadata": {},
   "outputs": [
    {
     "name": "stdout",
     "output_type": "stream",
     "text": [
      "['priority' 'spec_prior' 'spec_prior' ... 'spec_prior' 'priority'\n",
      " 'not_recom']\n",
      "['priority' 'spec_prior' 'spec_prior' ... 'spec_prior' 'priority'\n",
      " 'not_recom']\n"
     ]
    }
   ],
   "source": [
    "classifier.fit(descriptiveTraining,targetTraining)\n",
    "prediction = classifier.predict(descriptiveTest)\n",
    "print(prediction)\n",
    "print(targetTest)"
   ]
  },
  {
   "cell_type": "code",
   "execution_count": 50,
   "metadata": {},
   "outputs": [],
   "source": [
    "from sklearn.metrics import confusion_matrix, accuracy_score\n",
    "accuracy = accuracy_score(targetTest,prediction)\n",
    "matrix = confusion_matrix(targetTest,prediction)"
   ]
  },
  {
   "cell_type": "code",
   "execution_count": 51,
   "metadata": {},
   "outputs": [
    {
     "name": "stdout",
     "output_type": "stream",
     "text": [
      "0.9944444444444445\n",
      "[[2162    0    0    0    0]\n",
      " [   0 2082    0   13    0]\n",
      " [   0    0    0    0    0]\n",
      " [   0   19    0 2053    0]\n",
      " [   0    2    2    0  147]]\n"
     ]
    }
   ],
   "source": [
    "print(accuracy)\n",
    "print(matrix)"
   ]
  },
  {
   "cell_type": "code",
   "execution_count": null,
   "metadata": {},
   "outputs": [],
   "source": []
  }
 ],
 "metadata": {
  "kernelspec": {
   "display_name": "Python 3",
   "language": "python",
   "name": "python3"
  },
  "language_info": {
   "codemirror_mode": {
    "name": "ipython",
    "version": 3
   },
   "file_extension": ".py",
   "mimetype": "text/x-python",
   "name": "python",
   "nbconvert_exporter": "python",
   "pygments_lexer": "ipython3",
   "version": "3.7.3"
  }
 },
 "nbformat": 4,
 "nbformat_minor": 4
}
