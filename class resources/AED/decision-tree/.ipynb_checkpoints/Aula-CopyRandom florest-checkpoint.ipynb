{
 "cells": [
  {
   "cell_type": "code",
   "execution_count": 70,
   "metadata": {},
   "outputs": [
    {
     "data": {
      "text/html": [
       "<div>\n",
       "<style scoped>\n",
       "    .dataframe tbody tr th:only-of-type {\n",
       "        vertical-align: middle;\n",
       "    }\n",
       "\n",
       "    .dataframe tbody tr th {\n",
       "        vertical-align: top;\n",
       "    }\n",
       "\n",
       "    .dataframe thead th {\n",
       "        text-align: right;\n",
       "    }\n",
       "</style>\n",
       "<table border=\"1\" class=\"dataframe\">\n",
       "  <thead>\n",
       "    <tr style=\"text-align: right;\">\n",
       "      <th></th>\n",
       "      <th>BUYING</th>\n",
       "      <th>MAINT</th>\n",
       "      <th>DOORS</th>\n",
       "      <th>PERSONS</th>\n",
       "      <th>LUG_BOOT</th>\n",
       "      <th>SAFETY</th>\n",
       "    </tr>\n",
       "  </thead>\n",
       "  <tbody>\n",
       "    <tr>\n",
       "      <th>count</th>\n",
       "      <td>1728</td>\n",
       "      <td>1728</td>\n",
       "      <td>1728</td>\n",
       "      <td>1728</td>\n",
       "      <td>1728</td>\n",
       "      <td>1728</td>\n",
       "    </tr>\n",
       "    <tr>\n",
       "      <th>unique</th>\n",
       "      <td>4</td>\n",
       "      <td>4</td>\n",
       "      <td>3</td>\n",
       "      <td>3</td>\n",
       "      <td>3</td>\n",
       "      <td>4</td>\n",
       "    </tr>\n",
       "    <tr>\n",
       "      <th>top</th>\n",
       "      <td>high</td>\n",
       "      <td>4</td>\n",
       "      <td>4</td>\n",
       "      <td>big</td>\n",
       "      <td>high</td>\n",
       "      <td>unacc</td>\n",
       "    </tr>\n",
       "    <tr>\n",
       "      <th>freq</th>\n",
       "      <td>432</td>\n",
       "      <td>432</td>\n",
       "      <td>576</td>\n",
       "      <td>576</td>\n",
       "      <td>576</td>\n",
       "      <td>1210</td>\n",
       "    </tr>\n",
       "  </tbody>\n",
       "</table>\n",
       "</div>"
      ],
      "text/plain": [
       "       BUYING MAINT DOORS PERSONS LUG_BOOT SAFETY\n",
       "count    1728  1728  1728    1728     1728   1728\n",
       "unique      4     4     3       3        3      4\n",
       "top      high     4     4     big     high  unacc\n",
       "freq      432   432   576     576      576   1210"
      ]
     },
     "execution_count": 70,
     "metadata": {},
     "output_type": "execute_result"
    }
   ],
   "source": [
    "import pandas as pd\n",
    "db = pd.read_csv('cardata.csv',names=[\"BUYING\", \"MAINT\", \"DOORS\", \"PERSONS\",\"LUG_BOOT\", \"SAFETY\"])\n",
    "db.describe()"
   ]
  },
  {
   "cell_type": "code",
   "execution_count": 71,
   "metadata": {},
   "outputs": [
    {
     "name": "stdout",
     "output_type": "stream",
     "text": [
      "Descriptive [['vhigh' '2' '2' 'small' 'low']\n",
      " ['vhigh' '2' '2' 'small' 'med']\n",
      " ['vhigh' '2' '2' 'small' 'high']\n",
      " ...\n",
      " ['low' '5more' 'more' 'big' 'low']\n",
      " ['low' '5more' 'more' 'big' 'med']\n",
      " ['low' '5more' 'more' 'big' 'high']]\n",
      "Target ['unacc' 'unacc' 'unacc' ... 'unacc' 'good' 'vgood']\n"
     ]
    }
   ],
   "source": [
    "descriptive = db.iloc[:,0:5].values\n",
    "target = db.iloc[:,5].values\n",
    "print('Descriptive ' + str(descriptive))\n",
    "print('Target ' + str(target))"
   ]
  },
  {
   "cell_type": "code",
   "execution_count": 72,
   "metadata": {},
   "outputs": [
    {
     "name": "stdout",
     "output_type": "stream",
     "text": [
      "[[3 0 0 2 1]\n",
      " [3 0 0 2 2]\n",
      " [3 0 0 2 0]\n",
      " ...\n",
      " [1 3 2 0 1]\n",
      " [1 3 2 0 2]\n",
      " [1 3 2 0 0]]\n"
     ]
    }
   ],
   "source": [
    "from sklearn.preprocessing import LabelEncoder\n",
    "labelEncoder = LabelEncoder()\n",
    "descriptive[:,0] = labelEncoder.fit_transform(descriptive[:,0])\n",
    "descriptive[:,1] = labelEncoder.fit_transform(descriptive[:,1])\n",
    "descriptive[:,2] = labelEncoder.fit_transform(descriptive[:,2])\n",
    "descriptive[:,3] = labelEncoder.fit_transform(descriptive[:,3])\n",
    "descriptive[:,4] = labelEncoder.fit_transform(descriptive[:,4])\n",
    "print(descriptive)"
   ]
  },
  {
   "cell_type": "code",
   "execution_count": 73,
   "metadata": {},
   "outputs": [
    {
     "name": "stdout",
     "output_type": "stream",
     "text": [
      "[[0. 0. 0. ... 0. 1. 1.]\n",
      " [0. 0. 0. ... 0. 1. 2.]\n",
      " [0. 0. 0. ... 0. 1. 0.]\n",
      " ...\n",
      " [0. 1. 0. ... 0. 0. 1.]\n",
      " [0. 1. 0. ... 0. 0. 2.]\n",
      " [0. 1. 0. ... 0. 0. 0.]]\n"
     ]
    },
    {
     "name": "stderr",
     "output_type": "stream",
     "text": [
      "C:\\Users\\manue\\Anaconda3\\lib\\site-packages\\sklearn\\preprocessing\\_encoders.py:415: FutureWarning: The handling of integer data will change in version 0.22. Currently, the categories are determined based on the range [0, max(values)], while in the future they will be determined based on the unique values.\n",
      "If you want the future behaviour and silence this warning, you can specify \"categories='auto'\".\n",
      "In case you used a LabelEncoder before this OneHotEncoder to convert the categories to integers, then you can now use the OneHotEncoder directly.\n",
      "  warnings.warn(msg, FutureWarning)\n",
      "C:\\Users\\manue\\Anaconda3\\lib\\site-packages\\sklearn\\preprocessing\\_encoders.py:451: DeprecationWarning: The 'categorical_features' keyword is deprecated in version 0.20 and will be removed in 0.22. You can use the ColumnTransformer instead.\n",
      "  \"use the ColumnTransformer instead.\", DeprecationWarning)\n"
     ]
    }
   ],
   "source": [
    "from sklearn.preprocessing import OneHotEncoder\n",
    "oneHotEncoder = OneHotEncoder(categorical_features=[0,1,2,3,])\n",
    "descriptive = oneHotEncoder.fit_transform(descriptive).toarray()\n",
    "print(descriptive)"
   ]
  },
  {
   "cell_type": "code",
   "execution_count": 74,
   "metadata": {},
   "outputs": [
    {
     "name": "stdout",
     "output_type": "stream",
     "text": [
      "[[-0.57735027 -0.57735027 -0.57735027 ... -0.70710678  1.41421356\n",
      "   0.        ]\n",
      " [-0.57735027 -0.57735027 -0.57735027 ... -0.70710678  1.41421356\n",
      "   1.22474487]\n",
      " [-0.57735027 -0.57735027 -0.57735027 ... -0.70710678  1.41421356\n",
      "  -1.22474487]\n",
      " ...\n",
      " [-0.57735027  1.73205081 -0.57735027 ... -0.70710678 -0.70710678\n",
      "   0.        ]\n",
      " [-0.57735027  1.73205081 -0.57735027 ... -0.70710678 -0.70710678\n",
      "   1.22474487]\n",
      " [-0.57735027  1.73205081 -0.57735027 ... -0.70710678 -0.70710678\n",
      "  -1.22474487]]\n"
     ]
    }
   ],
   "source": [
    "from sklearn.preprocessing import StandardScaler\n",
    "standardScaler = StandardScaler()\n",
    "descriptive = standardScaler.fit_transform(descriptive)\n",
    "print(descriptive)"
   ]
  },
  {
   "cell_type": "code",
   "execution_count": 84,
   "metadata": {},
   "outputs": [],
   "source": [
    "from sklearn.model_selection import train_test_split\n",
    "descriptiveTraining , descriptiveTest, targetTraining, targetTest = train_test_split(descriptive, target,test_size = 0.25, random_state=0)\n",
    "from sklearn.ensemble import RandomForestClassifier\n",
    "classifier = RandomForestClassifier(n_estimators=20, criterion='entropy', random_state=0)"
   ]
  },
  {
   "cell_type": "code",
   "execution_count": 76,
   "metadata": {},
   "outputs": [
    {
     "name": "stdout",
     "output_type": "stream",
     "text": [
      "[[-0.57735027 -0.57735027  1.73205081 ... -0.70710678  1.41421356\n",
      "   1.22474487]\n",
      " [-0.57735027 -0.57735027  1.73205081 ...  1.41421356 -0.70710678\n",
      "   0.        ]\n",
      " [-0.57735027 -0.57735027 -0.57735027 ...  1.41421356 -0.70710678\n",
      "   1.22474487]\n",
      " ...\n",
      " [-0.57735027  1.73205081 -0.57735027 ... -0.70710678 -0.70710678\n",
      "   0.        ]\n",
      " [ 1.73205081 -0.57735027 -0.57735027 ... -0.70710678  1.41421356\n",
      "   1.22474487]\n",
      " [-0.57735027 -0.57735027  1.73205081 ... -0.70710678  1.41421356\n",
      "   0.        ]]\n",
      "[[-0.57735027 -0.57735027 -0.57735027 ...  1.41421356 -0.70710678\n",
      "   1.22474487]\n",
      " [ 1.73205081 -0.57735027 -0.57735027 ... -0.70710678 -0.70710678\n",
      "   1.22474487]\n",
      " [-0.57735027 -0.57735027  1.73205081 ... -0.70710678  1.41421356\n",
      "   0.        ]\n",
      " ...\n",
      " [-0.57735027 -0.57735027  1.73205081 ...  1.41421356 -0.70710678\n",
      "   0.        ]\n",
      " [-0.57735027 -0.57735027 -0.57735027 ...  1.41421356 -0.70710678\n",
      "   1.22474487]\n",
      " [ 1.73205081 -0.57735027 -0.57735027 ... -0.70710678 -0.70710678\n",
      "   0.        ]]\n",
      "RandomForestClassifier(bootstrap=True, class_weight=None, criterion='entropy',\n",
      "                       max_depth=None, max_features='auto', max_leaf_nodes=None,\n",
      "                       min_impurity_decrease=0.0, min_impurity_split=None,\n",
      "                       min_samples_leaf=1, min_samples_split=2,\n",
      "                       min_weight_fraction_leaf=0.0, n_estimators=20,\n",
      "                       n_jobs=None, oob_score=False, random_state=0, verbose=0,\n",
      "                       warm_start=False)\n"
     ]
    }
   ],
   "source": [
    "print(descriptiveTraining)\n",
    "print(descriptiveTest)\n",
    "print(classifier)"
   ]
  },
  {
   "cell_type": "code",
   "execution_count": 85,
   "metadata": {},
   "outputs": [
    {
     "name": "stdout",
     "output_type": "stream",
     "text": [
      "['unacc' 'acc' 'unacc' 'unacc' 'unacc' 'acc' 'unacc' 'unacc' 'unacc'\n",
      " 'unacc' 'unacc' 'acc' 'unacc' 'unacc' 'unacc' 'acc' 'unacc' 'acc' 'acc'\n",
      " 'unacc' 'acc' 'unacc' 'unacc' 'unacc' 'unacc' 'unacc' 'unacc' 'unacc'\n",
      " 'acc' 'unacc' 'acc' 'acc' 'unacc' 'vgood' 'acc' 'unacc' 'acc' 'unacc'\n",
      " 'unacc' 'acc' 'unacc' 'unacc' 'unacc' 'unacc' 'acc' 'unacc' 'unacc'\n",
      " 'unacc' 'unacc' 'unacc' 'unacc' 'unacc' 'unacc' 'unacc' 'unacc' 'unacc'\n",
      " 'unacc' 'unacc' 'unacc' 'acc' 'acc' 'unacc' 'unacc' 'acc' 'unacc' 'acc'\n",
      " 'unacc' 'unacc' 'unacc' 'unacc' 'unacc' 'unacc' 'acc' 'unacc' 'acc' 'acc'\n",
      " 'unacc' 'unacc' 'vgood' 'unacc' 'acc' 'acc' 'unacc' 'unacc' 'acc' 'unacc'\n",
      " 'unacc' 'acc' 'unacc' 'unacc' 'unacc' 'vgood' 'unacc' 'unacc' 'unacc'\n",
      " 'acc' 'unacc' 'acc' 'vgood' 'unacc' 'unacc' 'acc' 'acc' 'unacc' 'vgood'\n",
      " 'acc' 'acc' 'acc' 'unacc' 'unacc' 'unacc' 'unacc' 'unacc' 'acc' 'unacc'\n",
      " 'acc' 'acc' 'unacc' 'unacc' 'unacc' 'unacc' 'unacc' 'acc' 'vgood' 'unacc'\n",
      " 'unacc' 'unacc' 'vgood' 'good' 'unacc' 'unacc' 'unacc' 'acc' 'unacc'\n",
      " 'acc' 'unacc' 'unacc' 'unacc' 'acc' 'unacc' 'unacc' 'unacc' 'unacc'\n",
      " 'unacc' 'unacc' 'unacc' 'vgood' 'unacc' 'unacc' 'acc' 'acc' 'acc' 'unacc'\n",
      " 'unacc' 'unacc' 'acc' 'unacc' 'unacc' 'unacc' 'unacc' 'acc' 'unacc'\n",
      " 'unacc' 'unacc' 'unacc' 'unacc' 'unacc' 'unacc' 'unacc' 'unacc' 'unacc'\n",
      " 'unacc' 'unacc' 'unacc' 'acc' 'unacc' 'unacc' 'unacc' 'unacc' 'unacc'\n",
      " 'acc' 'unacc' 'unacc' 'acc' 'acc' 'unacc' 'acc' 'unacc' 'unacc' 'unacc'\n",
      " 'acc' 'unacc' 'unacc' 'acc' 'unacc' 'good' 'unacc' 'acc' 'unacc' 'acc'\n",
      " 'acc' 'acc' 'acc' 'acc' 'unacc' 'unacc' 'unacc' 'unacc' 'unacc' 'unacc'\n",
      " 'unacc' 'acc' 'unacc' 'unacc' 'unacc' 'unacc' 'unacc' 'acc' 'unacc'\n",
      " 'unacc' 'unacc' 'unacc' 'unacc' 'acc' 'unacc' 'unacc' 'unacc' 'acc'\n",
      " 'unacc' 'unacc' 'unacc' 'unacc' 'unacc' 'unacc' 'acc' 'unacc' 'unacc'\n",
      " 'acc' 'unacc' 'unacc' 'unacc' 'unacc' 'unacc' 'unacc' 'acc' 'unacc' 'acc'\n",
      " 'unacc' 'unacc' 'unacc' 'unacc' 'unacc' 'acc' 'unacc' 'acc' 'acc' 'unacc'\n",
      " 'unacc' 'unacc' 'unacc' 'unacc' 'unacc' 'acc' 'acc' 'unacc' 'unacc' 'acc'\n",
      " 'unacc' 'acc' 'unacc' 'unacc' 'unacc' 'unacc' 'unacc' 'unacc' 'unacc'\n",
      " 'unacc' 'unacc' 'acc' 'unacc' 'unacc' 'unacc' 'unacc' 'unacc' 'unacc'\n",
      " 'acc' 'unacc' 'acc' 'acc' 'unacc' 'unacc' 'unacc' 'unacc' 'unacc' 'unacc'\n",
      " 'unacc' 'unacc' 'unacc' 'unacc' 'acc' 'unacc' 'unacc' 'unacc' 'acc' 'acc'\n",
      " 'unacc' 'acc' 'unacc' 'acc' 'unacc' 'acc' 'unacc' 'unacc' 'unacc' 'acc'\n",
      " 'acc' 'unacc' 'unacc' 'unacc' 'vgood' 'unacc' 'acc' 'good' 'unacc' 'acc'\n",
      " 'acc' 'unacc' 'unacc' 'unacc' 'unacc' 'acc' 'unacc' 'acc' 'unacc' 'acc'\n",
      " 'unacc' 'acc' 'acc' 'acc' 'unacc' 'unacc' 'unacc' 'unacc' 'acc' 'unacc'\n",
      " 'acc' 'unacc' 'unacc' 'acc' 'unacc' 'acc' 'unacc' 'unacc' 'unacc' 'acc'\n",
      " 'unacc' 'unacc' 'vgood' 'unacc' 'acc' 'unacc' 'unacc' 'unacc' 'unacc'\n",
      " 'acc' 'acc' 'acc' 'good' 'unacc' 'acc' 'unacc' 'unacc' 'unacc' 'unacc'\n",
      " 'unacc' 'unacc' 'unacc' 'unacc' 'unacc' 'unacc' 'acc' 'unacc' 'acc'\n",
      " 'unacc' 'unacc' 'unacc' 'acc' 'unacc' 'unacc' 'unacc' 'unacc' 'unacc'\n",
      " 'unacc' 'acc' 'unacc' 'unacc' 'unacc' 'unacc' 'unacc' 'acc' 'acc' 'unacc'\n",
      " 'unacc' 'unacc' 'acc' 'unacc' 'unacc' 'unacc' 'acc' 'unacc' 'unacc'\n",
      " 'unacc' 'unacc' 'acc' 'unacc' 'unacc' 'acc' 'unacc' 'unacc' 'acc' 'unacc'\n",
      " 'acc' 'vgood' 'unacc' 'unacc' 'unacc' 'acc' 'unacc' 'unacc' 'acc' 'unacc'\n",
      " 'unacc']\n",
      "['unacc' 'unacc' 'unacc' 'unacc' 'unacc' 'good' 'unacc' 'acc' 'acc'\n",
      " 'unacc' 'unacc' 'unacc' 'acc' 'unacc' 'unacc' 'acc' 'unacc' 'unacc' 'acc'\n",
      " 'unacc' 'good' 'acc' 'acc' 'unacc' 'unacc' 'unacc' 'unacc' 'unacc'\n",
      " 'unacc' 'unacc' 'good' 'acc' 'unacc' 'acc' 'good' 'unacc' 'unacc' 'unacc'\n",
      " 'unacc' 'unacc' 'unacc' 'unacc' 'unacc' 'unacc' 'vgood' 'unacc' 'unacc'\n",
      " 'acc' 'unacc' 'unacc' 'unacc' 'unacc' 'unacc' 'unacc' 'unacc' 'unacc'\n",
      " 'unacc' 'unacc' 'unacc' 'acc' 'acc' 'unacc' 'unacc' 'unacc' 'unacc' 'acc'\n",
      " 'unacc' 'unacc' 'unacc' 'unacc' 'unacc' 'acc' 'acc' 'acc' 'acc' 'acc'\n",
      " 'unacc' 'acc' 'acc' 'unacc' 'acc' 'acc' 'acc' 'unacc' 'unacc' 'unacc'\n",
      " 'unacc' 'good' 'unacc' 'unacc' 'unacc' 'acc' 'unacc' 'unacc' 'unacc'\n",
      " 'vgood' 'unacc' 'acc' 'acc' 'unacc' 'unacc' 'unacc' 'acc' 'unacc' 'vgood'\n",
      " 'acc' 'unacc' 'acc' 'unacc' 'unacc' 'unacc' 'unacc' 'unacc' 'acc' 'unacc'\n",
      " 'good' 'acc' 'unacc' 'unacc' 'unacc' 'unacc' 'unacc' 'vgood' 'unacc'\n",
      " 'unacc' 'unacc' 'unacc' 'acc' 'good' 'unacc' 'unacc' 'unacc' 'acc'\n",
      " 'unacc' 'unacc' 'unacc' 'unacc' 'unacc' 'unacc' 'unacc' 'unacc' 'unacc'\n",
      " 'unacc' 'acc' 'unacc' 'unacc' 'acc' 'unacc' 'acc' 'acc' 'acc' 'acc'\n",
      " 'unacc' 'unacc' 'unacc' 'acc' 'unacc' 'unacc' 'unacc' 'unacc' 'acc'\n",
      " 'unacc' 'unacc' 'unacc' 'acc' 'unacc' 'unacc' 'unacc' 'unacc' 'unacc'\n",
      " 'unacc' 'unacc' 'unacc' 'unacc' 'acc' 'unacc' 'unacc' 'unacc' 'unacc'\n",
      " 'unacc' 'acc' 'acc' 'acc' 'unacc' 'acc' 'unacc' 'good' 'unacc' 'unacc'\n",
      " 'unacc' 'unacc' 'acc' 'unacc' 'unacc' 'unacc' 'acc' 'unacc' 'good'\n",
      " 'unacc' 'unacc' 'unacc' 'unacc' 'acc' 'unacc' 'unacc' 'unacc' 'unacc'\n",
      " 'unacc' 'unacc' 'unacc' 'unacc' 'acc' 'unacc' 'unacc' 'unacc' 'unacc'\n",
      " 'unacc' 'acc' 'unacc' 'unacc' 'unacc' 'acc' 'unacc' 'vgood' 'unacc'\n",
      " 'unacc' 'unacc' 'vgood' 'unacc' 'unacc' 'unacc' 'unacc' 'acc' 'unacc'\n",
      " 'unacc' 'unacc' 'unacc' 'unacc' 'unacc' 'unacc' 'unacc' 'unacc' 'unacc'\n",
      " 'unacc' 'good' 'unacc' 'acc' 'unacc' 'unacc' 'unacc' 'unacc' 'unacc'\n",
      " 'good' 'acc' 'acc' 'acc' 'acc' 'unacc' 'unacc' 'unacc' 'acc' 'unacc'\n",
      " 'unacc' 'acc' 'unacc' 'unacc' 'vgood' 'unacc' 'acc' 'unacc' 'unacc'\n",
      " 'unacc' 'acc' 'unacc' 'acc' 'unacc' 'unacc' 'unacc' 'unacc' 'unacc'\n",
      " 'unacc' 'unacc' 'acc' 'unacc' 'unacc' 'acc' 'unacc' 'vgood' 'good'\n",
      " 'unacc' 'unacc' 'unacc' 'unacc' 'unacc' 'unacc' 'unacc' 'unacc' 'unacc'\n",
      " 'unacc' 'acc' 'unacc' 'acc' 'acc' 'good' 'good' 'unacc' 'acc' 'unacc'\n",
      " 'acc' 'unacc' 'good' 'acc' 'unacc' 'unacc' 'unacc' 'unacc' 'unacc'\n",
      " 'unacc' 'unacc' 'acc' 'unacc' 'unacc' 'acc' 'unacc' 'acc' 'acc' 'unacc'\n",
      " 'unacc' 'unacc' 'unacc' 'acc' 'unacc' 'good' 'unacc' 'good' 'unacc'\n",
      " 'unacc' 'unacc' 'vgood' 'unacc' 'unacc' 'vgood' 'unacc' 'acc' 'unacc'\n",
      " 'acc' 'unacc' 'unacc' 'unacc' 'unacc' 'acc' 'unacc' 'unacc' 'acc' 'unacc'\n",
      " 'unacc' 'unacc' 'acc' 'unacc' 'acc' 'unacc' 'acc' 'unacc' 'unacc' 'good'\n",
      " 'vgood' 'acc' 'acc' 'unacc' 'vgood' 'unacc' 'unacc' 'unacc' 'acc' 'unacc'\n",
      " 'unacc' 'unacc' 'acc' 'unacc' 'acc' 'good' 'unacc' 'good' 'unacc' 'unacc'\n",
      " 'unacc' 'acc' 'unacc' 'unacc' 'unacc' 'unacc' 'unacc' 'unacc' 'vgood'\n",
      " 'unacc' 'unacc' 'acc' 'unacc' 'unacc' 'acc' 'unacc' 'acc' 'unacc' 'unacc'\n",
      " 'vgood' 'unacc' 'unacc' 'unacc' 'unacc' 'acc' 'unacc' 'unacc' 'unacc'\n",
      " 'unacc' 'unacc' 'unacc' 'acc' 'acc' 'unacc' 'acc' 'unacc' 'good' 'vgood'\n",
      " 'unacc' 'unacc' 'unacc' 'vgood' 'unacc' 'unacc' 'acc' 'unacc' 'acc']\n"
     ]
    }
   ],
   "source": [
    "classifier.fit(descriptiveTraining,targetTraining)\n",
    "prediction = classifier.predict(descriptiveTest)\n",
    "print(prediction)\n",
    "print(targetTest)"
   ]
  },
  {
   "cell_type": "code",
   "execution_count": 86,
   "metadata": {},
   "outputs": [],
   "source": [
    "from sklearn.metrics import confusion_matrix, accuracy_score\n",
    "accuracy = accuracy_score(targetTest,prediction)\n",
    "matrix = confusion_matrix(targetTest,prediction)"
   ]
  },
  {
   "cell_type": "code",
   "execution_count": 87,
   "metadata": {},
   "outputs": [
    {
     "name": "stdout",
     "output_type": "stream",
     "text": [
      "0.7314814814814815\n",
      "[[ 51   3  37   8]\n",
      " [ 20   1   0   0]\n",
      " [ 33   0 262   1]\n",
      " [ 13   0   1   2]]\n"
     ]
    }
   ],
   "source": [
    "print(accuracy)\n",
    "print(matrix)"
   ]
  },
  {
   "cell_type": "code",
   "execution_count": null,
   "metadata": {},
   "outputs": [],
   "source": []
  }
 ],
 "metadata": {
  "kernelspec": {
   "display_name": "Python 3",
   "language": "python",
   "name": "python3"
  },
  "language_info": {
   "codemirror_mode": {
    "name": "ipython",
    "version": 3
   },
   "file_extension": ".py",
   "mimetype": "text/x-python",
   "name": "python",
   "nbconvert_exporter": "python",
   "pygments_lexer": "ipython3",
   "version": "3.7.3"
  }
 },
 "nbformat": 4,
 "nbformat_minor": 4
}
