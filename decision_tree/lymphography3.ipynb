{
 "cells": [
  {
   "cell_type": "code",
   "execution_count": 1,
   "metadata": {
    "pycharm": {
     "is_executing": false
    }
   },
   "outputs": [],
   "source": [
    "import pandas as pd\n",
    "db = pd.read_csv('lymphography.csv', names=[\"target\",\"lymphatics\",\"block of affere\",\"bl. of lymph. c\",\"bl. of lymph. s\",\"by pass\",\"extravasates\",\"regeneration of\",\"early uptake in\",\"lym.nodes dimin\",\"lym.nodes enlar\",\"changes in lym.\",\"defect in node\",\"changes in node\",\"changes in stru\",\"special forms\",\"dislocation of\",\"exclusion of no\",\"no. of nodes in\"]).dropna()\n",
    "descriptive = db.iloc[:,1:19].values\n",
    "target = db.iloc[:,0].values"
   ]
  },
  {
   "cell_type": "code",
   "execution_count": 2,
   "outputs": [
    {
     "data": {
      "text/plain": "   target  lymphatics  block of affere  bl. of lymph. c  bl. of lymph. s  \\\n0       3           4                2                1                1   \n1       2           3                2                1                1   \n2       3           3                2                2                2   \n3       3           3                1                1                1   \n4       2           3                1                1                1   \n\n   by pass  extravasates  regeneration of  early uptake in  lym.nodes dimin  \\\n0        1             1                1                2                1   \n1        2             2                1                2                1   \n2        2             2                2                2                1   \n3        1             2                1                2                1   \n4        1             1                1                1                1   \n\n   lym.nodes enlar  changes in lym.  defect in node  changes in node  \\\n0                2                2               2                4   \n1                3                3               2                3   \n2                4                3               3                4   \n3                3                3               4                4   \n4                2                2               4                3   \n\n   changes in stru  special forms  dislocation of  exclusion of no  \\\n0                8              1               1                2   \n1                4              2               2                2   \n2                8              3               2                2   \n3                4              3               1                2   \n4                5              1               2                2   \n\n   no. of nodes in  \n0                2  \n1                2  \n2                7  \n3                6  \n4                1  ",
      "text/html": "<div>\n<style scoped>\n    .dataframe tbody tr th:only-of-type {\n        vertical-align: middle;\n    }\n\n    .dataframe tbody tr th {\n        vertical-align: top;\n    }\n\n    .dataframe thead th {\n        text-align: right;\n    }\n</style>\n<table border=\"1\" class=\"dataframe\">\n  <thead>\n    <tr style=\"text-align: right;\">\n      <th></th>\n      <th>target</th>\n      <th>lymphatics</th>\n      <th>block of affere</th>\n      <th>bl. of lymph. c</th>\n      <th>bl. of lymph. s</th>\n      <th>by pass</th>\n      <th>extravasates</th>\n      <th>regeneration of</th>\n      <th>early uptake in</th>\n      <th>lym.nodes dimin</th>\n      <th>lym.nodes enlar</th>\n      <th>changes in lym.</th>\n      <th>defect in node</th>\n      <th>changes in node</th>\n      <th>changes in stru</th>\n      <th>special forms</th>\n      <th>dislocation of</th>\n      <th>exclusion of no</th>\n      <th>no. of nodes in</th>\n    </tr>\n  </thead>\n  <tbody>\n    <tr>\n      <th>0</th>\n      <td>3</td>\n      <td>4</td>\n      <td>2</td>\n      <td>1</td>\n      <td>1</td>\n      <td>1</td>\n      <td>1</td>\n      <td>1</td>\n      <td>2</td>\n      <td>1</td>\n      <td>2</td>\n      <td>2</td>\n      <td>2</td>\n      <td>4</td>\n      <td>8</td>\n      <td>1</td>\n      <td>1</td>\n      <td>2</td>\n      <td>2</td>\n    </tr>\n    <tr>\n      <th>1</th>\n      <td>2</td>\n      <td>3</td>\n      <td>2</td>\n      <td>1</td>\n      <td>1</td>\n      <td>2</td>\n      <td>2</td>\n      <td>1</td>\n      <td>2</td>\n      <td>1</td>\n      <td>3</td>\n      <td>3</td>\n      <td>2</td>\n      <td>3</td>\n      <td>4</td>\n      <td>2</td>\n      <td>2</td>\n      <td>2</td>\n      <td>2</td>\n    </tr>\n    <tr>\n      <th>2</th>\n      <td>3</td>\n      <td>3</td>\n      <td>2</td>\n      <td>2</td>\n      <td>2</td>\n      <td>2</td>\n      <td>2</td>\n      <td>2</td>\n      <td>2</td>\n      <td>1</td>\n      <td>4</td>\n      <td>3</td>\n      <td>3</td>\n      <td>4</td>\n      <td>8</td>\n      <td>3</td>\n      <td>2</td>\n      <td>2</td>\n      <td>7</td>\n    </tr>\n    <tr>\n      <th>3</th>\n      <td>3</td>\n      <td>3</td>\n      <td>1</td>\n      <td>1</td>\n      <td>1</td>\n      <td>1</td>\n      <td>2</td>\n      <td>1</td>\n      <td>2</td>\n      <td>1</td>\n      <td>3</td>\n      <td>3</td>\n      <td>4</td>\n      <td>4</td>\n      <td>4</td>\n      <td>3</td>\n      <td>1</td>\n      <td>2</td>\n      <td>6</td>\n    </tr>\n    <tr>\n      <th>4</th>\n      <td>2</td>\n      <td>3</td>\n      <td>1</td>\n      <td>1</td>\n      <td>1</td>\n      <td>1</td>\n      <td>1</td>\n      <td>1</td>\n      <td>1</td>\n      <td>1</td>\n      <td>2</td>\n      <td>2</td>\n      <td>4</td>\n      <td>3</td>\n      <td>5</td>\n      <td>1</td>\n      <td>2</td>\n      <td>2</td>\n      <td>1</td>\n    </tr>\n  </tbody>\n</table>\n</div>"
     },
     "metadata": {},
     "output_type": "execute_result",
     "execution_count": 2
    }
   ],
   "source": [
    "#Data visualization\n",
    "#db.describe()\n",
    "db.head()\n",
    "#print(\"done!\")"
   ],
   "metadata": {
    "collapsed": false,
    "pycharm": {
     "name": "#%%\n",
     "is_executing": false
    }
   }
  },
  {
   "cell_type": "code",
   "execution_count": 3,
   "outputs": [
    {
     "name": "stdout",
     "text": [
      "Descriptive:\n",
      "[[4 2 1 ... 1 2 2]\n",
      " [3 2 1 ... 2 2 2]\n",
      " [3 2 2 ... 2 2 7]\n",
      " ...\n",
      " [2 2 1 ... 2 2 4]\n",
      " [2 1 1 ... 2 2 1]\n",
      " [2 2 2 ... 2 2 6]]\n",
      "Target\n",
      "[3 2 3 3 2 2 2 2 3 3 2 2 2 3 4 2 2 2 2 2 3 3 2 2 3 3 3 3 2 3 3 3 2 2 2 2 4\n",
      " 3 3 3 3 3 2 2 4 3 2 2 2 2 2 3 2 2 2 3 3 2 3 2 3 2 3 2 2 3 3 2 3 3 2 3 2 3\n",
      " 3 2 2 2 1 3 3 2 3 3 3 2 2 2 3 2 3 2 2 2 3 3 2 2 2 2 3 2 2 2 2 3 2 3 2 2 2\n",
      " 3 2 3 3 3 3 2 3 3 2 2 2 2 2 3 2 2 3 2 2 3 3 2 2 2 1 3 2 4 2 3 2 3 2 3 2 2]\n"
     ],
     "output_type": "stream"
    }
   ],
   "source": [
    "print(\"Descriptive:\")\n",
    "print(descriptive)\n",
    "print(\"Target\")\n",
    "print(target)"
   ],
   "metadata": {
    "collapsed": false,
    "pycharm": {
     "name": "#%%\n",
     "is_executing": false
    }
   }
  },
  {
   "cell_type": "code",
   "execution_count": 4,
   "outputs": [],
   "source": [
    "#Label encoder\n",
    "from sklearn.preprocessing import LabelEncoder\n",
    "le = LabelEncoder()\n",
    "descriptive[:,0] = le.fit_transform(descriptive[:,0])\n",
    "descriptive[:,1] = le.fit_transform(descriptive[:,1])\n",
    "descriptive[:,2] = le.fit_transform(descriptive[:,2])\n",
    "descriptive[:,3] = le.fit_transform(descriptive[:,3])\n",
    "descriptive[:,4] = le.fit_transform(descriptive[:,4])\n",
    "descriptive[:,5] = le.fit_transform(descriptive[:,5])\n",
    "descriptive[:,6] = le.fit_transform(descriptive[:,6])\n",
    "descriptive[:,7] = le.fit_transform(descriptive[:,7])\n",
    "descriptive[:,8] = le.fit_transform(descriptive[:,8])\n",
    "descriptive[:,9] = le.fit_transform(descriptive[:,9])\n",
    "descriptive[:,10] = le.fit_transform(descriptive[:,10])\n",
    "descriptive[:,11] = le.fit_transform(descriptive[:,11])\n",
    "descriptive[:,12] = le.fit_transform(descriptive[:,12])\n",
    "descriptive[:,13] = le.fit_transform(descriptive[:,13])\n",
    "descriptive[:,14] = le.fit_transform(descriptive[:,14])\n",
    "descriptive[:,15] = le.fit_transform(descriptive[:,15])\n",
    "descriptive[:,16] = le.fit_transform(descriptive[:,16])\n",
    "descriptive[:,17] = le.fit_transform(descriptive[:,17])"
   ],
   "metadata": {
    "collapsed": false,
    "pycharm": {
     "name": "#%%\n",
     "is_executing": false
    }
   }
  },
  {
   "cell_type": "code",
   "execution_count": 5,
   "outputs": [
    {
     "name": "stderr",
     "text": [
      "C:\\Users\\manue\\Anaconda3\\lib\\site-packages\\sklearn\\preprocessing\\_encoders.py:415: FutureWarning: The handling of integer data will change in version 0.22. Currently, the categories are determined based on the range [0, max(values)], while in the future they will be determined based on the unique values.\n",
      "If you want the future behaviour and silence this warning, you can specify \"categories='auto'\".\n",
      "In case you used a LabelEncoder before this OneHotEncoder to convert the categories to integers, then you can now use the OneHotEncoder directly.\n",
      "  warnings.warn(msg, FutureWarning)\n",
      "C:\\Users\\manue\\Anaconda3\\lib\\site-packages\\sklearn\\preprocessing\\_encoders.py:451: DeprecationWarning: The 'categorical_features' keyword is deprecated in version 0.20 and will be removed in 0.22. You can use the ColumnTransformer instead.\n",
      "  \"use the ColumnTransformer instead.\", DeprecationWarning)\n"
     ],
     "output_type": "stream"
    }
   ],
   "source": [
    "#One Hot Encoder\n",
    "from sklearn.preprocessing import OneHotEncoder\n",
    "ohe = OneHotEncoder(categorical_features=[0,1,2,3,4,5,6,7,8,9,10,11,12,13])\n",
    "descriptive = ohe.fit_transform(descriptive).toarray()"
   ],
   "metadata": {
    "collapsed": false,
    "pycharm": {
     "name": "#%%\n",
     "is_executing": false
    }
   }
  },
  {
   "cell_type": "code",
   "execution_count": 6,
   "outputs": [],
   "source": [
    "#Split Dataset\n",
    "percentagem = 0.5\n",
    "from sklearn.model_selection import train_test_split\n",
    "#change this line for 0.15, 0.30, 0.50\n",
    "descriptiveTraining, descriptiveTest, targetTraining, targetTest = train_test_split(descriptive,target,test_size = percentagem, random_state = 0)\n",
    "\n",
    "#print(descriptiveTraining)\n",
    "#print(descriptiveTest)"
   ],
   "metadata": {
    "collapsed": false,
    "pycharm": {
     "name": "#%%\n",
     "is_executing": false
    }
   }
  },
  {
   "cell_type": "code",
   "execution_count": 7,
   "outputs": [],
   "source": [
    "#Naive Bayes Algorithm & Test\n",
    "from sklearn.tree import DecisionTreeClassifier\n",
    "classifier = DecisionTreeClassifier(criterion='entropy',random_state=0)\n",
    "classifier.fit(descriptiveTraining, targetTraining)\n",
    "prediction = classifier.predict(descriptiveTest)"
   ],
   "metadata": {
    "collapsed": false,
    "pycharm": {
     "name": "#%%\n",
     "is_executing": false
    }
   }
  },
  {
   "cell_type": "code",
   "execution_count": 8,
   "outputs": [
    {
     "name": "stdout",
     "text": [
      "Accuracy:\n",
      "0.8108108108108109\n",
      "Confusion matrix:\n",
      "[[ 0  1  0  0]\n",
      " [ 0 31  5  1]\n",
      " [ 0  2 28  4]\n",
      " [ 0  1  0  1]]\n"
     ],
     "output_type": "stream"
    }
   ],
   "source": [
    "#Metrics\n",
    "from sklearn.metrics import confusion_matrix, accuracy_score\n",
    "accuracy = accuracy_score(targetTest,prediction)\n",
    "matrix = confusion_matrix(targetTest,prediction)\n",
    "print(\"Accuracy:\")\n",
    "print(accuracy )\n",
    "print(\"Confusion matrix:\")\n",
    "print(matrix)"
   ],
   "metadata": {
    "collapsed": false,
    "pycharm": {
     "name": "#%%\n",
     "is_executing": false
    }
   }
  }
 ],
 "metadata": {
  "kernelspec": {
   "display_name": "Python 3",
   "language": "python",
   "name": "python3"
  },
  "language_info": {
   "codemirror_mode": {
    "name": "ipython",
    "version": 3
   },
   "file_extension": ".py",
   "mimetype": "text/x-python",
   "name": "python",
   "nbconvert_exporter": "python",
   "pygments_lexer": "ipython3",
   "version": "3.7.3"
  },
  "pycharm": {
   "stem_cell": {
    "cell_type": "raw",
    "source": [],
    "metadata": {
     "collapsed": false
    }
   }
  }
 },
 "nbformat": 4,
 "nbformat_minor": 4
}